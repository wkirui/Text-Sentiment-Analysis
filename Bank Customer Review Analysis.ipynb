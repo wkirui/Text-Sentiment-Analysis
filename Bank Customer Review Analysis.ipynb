{
 "cells": [
  {
   "cell_type": "markdown",
   "metadata": {},
   "source": [
    "# Text Sentiment Analysis\n",
    "In this notebook I look at customer reviews for the top banks in Kenya. Is it enough to use social media comments to make an informed decision a given bank?\n",
    "I will be using data from Twitter in this analysis"
   ]
  },
  {
   "cell_type": "code",
   "execution_count": 19,
   "metadata": {},
   "outputs": [],
   "source": [
    "# Get Access tokens\n",
    "%reload_ext dotenv\n",
    "%dotenv\n",
    "\n",
    "import os\n",
    "import tweepy\n",
    "from tweepy import OAuthHandler\n",
    "\n",
    "# get access\n",
    "# keys are stored in a '.env' file\n",
    "consumer_key = os.getenv('CONSUMER_KEY')\n",
    "consumer_secret= os.getenv('CONSUMER_SECRET')\n",
    "access_token =  os.getenv('ACCESS_TOKEN')\n",
    "access_secret =  os.getenv('ACCESS_SECRET')\n",
    "\n",
    "# authorize access\n",
    "oath = OAuthHandler(consumer_key,consumer_secret)\n",
    "oath.set_access_token(access_token,access_secret)\n",
    "\n",
    "#create api\n",
    "twitter_api = tweepy.API(oath)\n"
   ]
  },
  {
   "cell_type": "code",
   "execution_count": 21,
   "metadata": {},
   "outputs": [
    {
     "name": "stdout",
     "output_type": "stream",
     "text": [
      "Online Ad selection Using the Thompson Sampling method https://t.co/rMtIP6RIyF\n",
      "Learn about tech innovators in 3D graphics, satellite imagery, collaborative editing, and other fields. https://t.co/S4B4OBSmA7\n",
      "“It’s unfortunate, quite frankly, that as a nation we have now made schools a political football. That is going to… https://t.co/nQp0rKVp15\n",
      "Pfizer CEO Albert Bourla said that the clinical trials should reveal by October whether the company’s vaccine again… https://t.co/lffzeWsOJN\n",
      "#DevNews is a brand new podcast — &amp; #DevDiscuss is also fresh on the scene! Because of that, we'd LOVE reviews from… https://t.co/Bmn757Gshb\n",
      "Ugh, fine. I 'get' Twitch now. All it took was 'Ghost of Tsushima' and a pandemic. https://t.co/1JiNPo2ENt https://t.co/SwqlA3j5Ng\n",
      "RT @RuthGotian: It happened.\n",
      "\n",
      "I received the reviews for a manuscript I submitted. I was told to read &amp; cite the work of Ruth Gotian.\n",
      "\n",
      "I am…\n",
      "👍 https://t.co/8Hh761hD1n\n",
      "Well said https://t.co/Wjhvb6wysC\n",
      "Thanks to the internet, gay teenagers are finding the means and the confidence to come out in more places than ever… https://t.co/i52FokcDqx\n"
     ]
    }
   ],
   "source": [
    "# examine top 10 tweets on timeline\n",
    "for tweet in tweepy.Cursor(twitter_api.home_timeline).items(10):\n",
    "    print(tweet.text)\n"
   ]
  },
  {
   "cell_type": "code",
   "execution_count": 104,
   "metadata": {},
   "outputs": [],
   "source": [
    "# twitter_api.search('bank')\n",
    "# search banking tweets\n",
    "# banks_list = [\"KCB Bank\",\"Equity Bank\",\"I&M Bank\",\"Cooperative Bank\",\"Family Bank\",\n",
    "#               \"DTB Bank\",\"Barclays Bank\",\"Standard Chartered Bank\",\"National Bank\",\"NIC Bank\"]\n",
    "search_list  = ['KCB Bank']\n",
    "start_date = \"2020-01-01\"\n",
    "ke_banking_tweets = []\n",
    "for tweet in tweepy.Cursor(twitter_api.search,q=search_list,since=start_date).items(20):\n",
    "    ke_banking_tweets.append(tweet.text)\n"
   ]
  },
  {
   "cell_type": "code",
   "execution_count": 105,
   "metadata": {},
   "outputs": [
    {
     "data": {
      "text/plain": [
       "20"
      ]
     },
     "execution_count": 105,
     "metadata": {},
     "output_type": "execute_result"
    }
   ],
   "source": [
    "len(ke_banking_tweets)"
   ]
  },
  {
   "cell_type": "code",
   "execution_count": 107,
   "metadata": {},
   "outputs": [
    {
     "name": "stdout",
     "output_type": "stream",
     "text": [
      "RT @motowntz: Watanzania 56,000 wameajiriwa na kampuni 300 zenye chimbuko lao Kenya ikiwemo Kcb Bank , Equity , Kenya Airways, Serena Hotel…\n",
      "RT @motowntz: Watanzania 56,000 wameajiriwa na kampuni 300 zenye chimbuko lao Kenya ikiwemo Kcb Bank , Equity , Kenya Airways, Serena Hotel…\n",
      "RT @motowntz: Watanzania 56,000 wameajiriwa na kampuni 300 zenye chimbuko lao Kenya ikiwemo Kcb Bank , Equity , Kenya Airways, Serena Hotel…\n",
      "RT @motowntz: Watanzania 56,000 wameajiriwa na kampuni 300 zenye chimbuko lao Kenya ikiwemo Kcb Bank , Equity , Kenya Airways, Serena Hotel…\n",
      "RT @motowntz: Watanzania 56,000 wameajiriwa na kampuni 300 zenye chimbuko lao Kenya ikiwemo Kcb Bank , Equity , Kenya Airways, Serena Hotel…\n",
      "RT @motowntz: Watanzania 56,000 wameajiriwa na kampuni 300 zenye chimbuko lao Kenya ikiwemo Kcb Bank , Equity , Kenya Airways, Serena Hotel…\n",
      "RT @motowntz: Watanzania 56,000 wameajiriwa na kampuni 300 zenye chimbuko lao Kenya ikiwemo Kcb Bank , Equity , Kenya Airways, Serena Hotel…\n",
      "RT @motowntz: Watanzania 56,000 wameajiriwa na kampuni 300 zenye chimbuko lao Kenya ikiwemo Kcb Bank , Equity , Kenya Airways, Serena Hotel…\n",
      "@UnitySacco Hello k-unity am one of your customers from suswa branch and I want to transfer money from KCB bank to… https://t.co/fczgLJnE5n\n",
      "RT @motowntz: Watanzania 56,000 wameajiriwa na kampuni 300 zenye chimbuko lao Kenya ikiwemo Kcb Bank , Equity , Kenya Airways, Serena Hotel…\n",
      "RT @herine_lando: KCB bank : https://t.co/VEN9TT1tmK\n",
      "RT @KCBGroup: When you bank with us it’s always a win for ya’ll. Tap and Go with your KCB cards or use your KCB iBank and earn Simba Points…\n",
      "RT @motowntz: Watanzania 56,000 wameajiriwa na kampuni 300 zenye chimbuko lao Kenya ikiwemo Kcb Bank , Equity , Kenya Airways, Serena Hotel…\n",
      "@Safaricom_Care hey i sent some cash via kcb paybill no 522522 unfortunately the user is an unregistered kcb bank u… https://t.co/hLDr3dt2ji\n",
      "KCB bank : https://t.co/tr3R1x2WoV https://t.co/VEN9TT1tmK\n",
      "RT @motowntz: Watanzania 56,000 wameajiriwa na kampuni 300 zenye chimbuko lao Kenya ikiwemo Kcb Bank , Equity , Kenya Airways, Serena Hotel…\n",
      "RT @KCBGroup: When you bank with us it’s always a win for ya’ll. Tap and Go with your KCB cards or use your KCB iBank and earn Simba Points…\n",
      "RT @KCBGroup: When you bank with us it’s always a win for ya’ll. Tap and Go with your KCB cards or use your KCB iBank and earn Simba Points…\n",
      "RT @motowntz: Watanzania 56,000 wameajiriwa na kampuni 300 zenye chimbuko lao Kenya ikiwemo Kcb Bank , Equity , Kenya Airways, Serena Hotel…\n",
      "RT @KCBGroup: When you bank with us it’s always a win for ya’ll. Tap and Go with your KCB cards or use your KCB iBank and earn Simba Points…\n"
     ]
    }
   ],
   "source": [
    "for i in range(20):\n",
    "    print(ke_banking_tweets[i])"
   ]
  },
  {
   "cell_type": "code",
   "execution_count": null,
   "metadata": {},
   "outputs": [],
   "source": []
  }
 ],
 "metadata": {
  "kernelspec": {
   "display_name": "Python 3",
   "language": "python",
   "name": "python3"
  },
  "language_info": {
   "codemirror_mode": {
    "name": "ipython",
    "version": 3
   },
   "file_extension": ".py",
   "mimetype": "text/x-python",
   "name": "python",
   "nbconvert_exporter": "python",
   "pygments_lexer": "ipython3",
   "version": "3.8.3"
  }
 },
 "nbformat": 4,
 "nbformat_minor": 4
}
