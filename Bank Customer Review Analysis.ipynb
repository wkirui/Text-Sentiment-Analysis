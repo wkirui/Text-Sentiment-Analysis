{
 "cells": [
  {
   "cell_type": "markdown",
   "metadata": {},
   "source": [
    "# Text Sentiment Analysis\n",
    "In this notebook I look at customer reviews for the top banks in Kenya. Is it enough to use social media comments to make an informed decision a given bank?\n",
    "I will be using data from Twitter in this analysis"
   ]
  },
  {
   "cell_type": "code",
   "execution_count": 19,
   "metadata": {},
   "outputs": [],
   "source": [
    "# Get Access tokens\n",
    "%reload_ext dotenv\n",
    "%dotenv\n",
    "\n",
    "import os\n",
    "import tweepy\n",
    "from tweepy import OAuthHandler\n",
    "\n",
    "# get access\n",
    "# keys are stored in a '.env' file\n",
    "consumer_key = os.getenv('CONSUMER_KEY')\n",
    "consumer_secret= os.getenv('CONSUMER_SECRET')\n",
    "access_token =  os.getenv('ACCESS_TOKEN')\n",
    "access_secret =  os.getenv('ACCESS_SECRET')\n",
    "\n",
    "# authorize access\n",
    "oath = OAuthHandler(consumer_key,consumer_secret)\n",
    "oath.set_access_token(access_token,access_secret)\n",
    "\n",
    "#create api\n",
    "twitter_api = tweepy.API(oath)\n"
   ]
  },
  {
   "cell_type": "code",
   "execution_count": 21,
   "metadata": {},
   "outputs": [
    {
     "name": "stdout",
     "output_type": "stream",
     "text": [
      "Online Ad selection Using the Thompson Sampling method https://t.co/rMtIP6RIyF\n",
      "Learn about tech innovators in 3D graphics, satellite imagery, collaborative editing, and other fields. https://t.co/S4B4OBSmA7\n",
      "“It’s unfortunate, quite frankly, that as a nation we have now made schools a political football. That is going to… https://t.co/nQp0rKVp15\n",
      "Pfizer CEO Albert Bourla said that the clinical trials should reveal by October whether the company’s vaccine again… https://t.co/lffzeWsOJN\n",
      "#DevNews is a brand new podcast — &amp; #DevDiscuss is also fresh on the scene! Because of that, we'd LOVE reviews from… https://t.co/Bmn757Gshb\n",
      "Ugh, fine. I 'get' Twitch now. All it took was 'Ghost of Tsushima' and a pandemic. https://t.co/1JiNPo2ENt https://t.co/SwqlA3j5Ng\n",
      "RT @RuthGotian: It happened.\n",
      "\n",
      "I received the reviews for a manuscript I submitted. I was told to read &amp; cite the work of Ruth Gotian.\n",
      "\n",
      "I am…\n",
      "👍 https://t.co/8Hh761hD1n\n",
      "Well said https://t.co/Wjhvb6wysC\n",
      "Thanks to the internet, gay teenagers are finding the means and the confidence to come out in more places than ever… https://t.co/i52FokcDqx\n"
     ]
    }
   ],
   "source": [
    "# examine top 10 tweets on timeline\n",
    "for tweet in tweepy.Cursor(twitter_api.home_timeline).items(10):\n",
    "    print(tweet.text)\n"
   ]
  },
  {
   "cell_type": "code",
   "execution_count": 102,
   "metadata": {},
   "outputs": [],
   "source": [
    "# twitter_api.search('bank')\n",
    "# search banking tweets\n",
    "# banks_list = [\"KCB Bank\",\"Equity Bank\",\"I&M Bank\",\"Cooperative Bank\",\"Family Bank\",\n",
    "#               \"DTB Bank\",\"Barclays Bank\",\"Standard Chartered Bank\",\"National Bank\",\"NIC Bank\"]\n",
    "search_list  = ['KCB Bank']\n",
    "start_date = \"2020-01-01\"\n",
    "ke_banking_tweets = []\n",
    "for tweet in tweepy.Cursor(twitter_api.search,q=search_list,since=start_date).items(20):\n",
    "    ke_banking_tweets.append(tweet.text)\n"
   ]
  },
  {
   "cell_type": "code",
   "execution_count": 103,
   "metadata": {},
   "outputs": [
    {
     "data": {
      "text/plain": [
       "0"
      ]
     },
     "execution_count": 103,
     "metadata": {},
     "output_type": "execute_result"
    }
   ],
   "source": [
    "len(ke_banking_tweets)"
   ]
  },
  {
   "cell_type": "code",
   "execution_count": 95,
   "metadata": {},
   "outputs": [
    {
     "name": "stdout",
     "output_type": "stream",
     "text": [
      "RT @Dadsaysjokes: A priest, an imam, and a rabbit walk into a blood bank.\n",
      "\n",
      "The rabbit says,\"I think I might be a type O.\"\n",
      "RT @mmpadellan: BREAKING: Deutsche Bank COMPLIED with a subpoena from the Manhattan DA for trump's financial records.\n",
      "\n",
      "TIK. TOK.\n",
      "https://t.…\n",
      "RT @lyndsay_barna: .@MTFootball18 @cade_clancy says \"They've been working the safety plan the best we can and I think we deserve the best s…\n",
      "@thejohngoodwin I cant wait for \"Facebook Bank\", that way they just get ALL of our personal info\n",
      "RT @washingtonpost: Justice Department accuses Ukrainian oligarch of stealing billions from bank he once owned and laundering it in the U.S…\n",
      "RT @FreddieBailey96: For millions of young people, there never was a bank of mum and dad.\n",
      "RT @outroride: PLEASE DONATE TO LEBANON !! These are some trusted places to donate to:\n",
      "\n",
      "Lebanese red cross \n",
      "🔗https://t.co/W1gj30Z2bq\n",
      "\n",
      "Leban…\n",
      "RT @mmpadellan: BREAKING: Deutsche Bank COMPLIED with a subpoena from the Manhattan DA for trump's financial records.\n",
      "\n",
      "TIK. TOK.\n",
      "https://t.…\n",
      "My mother and foster mother see me relaxed and not stressing and automatically think I have 500k sitting in my bank acct\n",
      "@SethAbramson He’s sinking and flailing to tread water. Btw, we haven’t heard from Crazy Uncle Rudy in a while. Wha… https://t.co/XckijXrq2q\n"
     ]
    }
   ],
   "source": [
    "for i in range(10,20):\n",
    "    print(ke_banking_tweets[i])"
   ]
  },
  {
   "cell_type": "code",
   "execution_count": null,
   "metadata": {},
   "outputs": [],
   "source": []
  }
 ],
 "metadata": {
  "kernelspec": {
   "display_name": "Python 3",
   "language": "python",
   "name": "python3"
  },
  "language_info": {
   "codemirror_mode": {
    "name": "ipython",
    "version": 3
   },
   "file_extension": ".py",
   "mimetype": "text/x-python",
   "name": "python",
   "nbconvert_exporter": "python",
   "pygments_lexer": "ipython3",
   "version": "3.8.3"
  }
 },
 "nbformat": 4,
 "nbformat_minor": 4
}
